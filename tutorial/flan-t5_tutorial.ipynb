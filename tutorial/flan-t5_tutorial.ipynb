{
 "cells": [
  {
   "cell_type": "code",
   "execution_count": 2,
   "id": "98dfc133-f269-4544-9a64-9fdc9ef2250c",
   "metadata": {},
   "outputs": [],
   "source": [
    "from transformers import AutoModelForSeq2SeqLM, AutoTokenizer\n",
    "import torch\n",
    "import os"
   ]
  },
  {
   "cell_type": "markdown",
   "id": "149e7a91-77b7-4fef-a98e-95bdcef08bf8",
   "metadata": {},
   "source": [
    "FLAN-T5 model comes with many variants based on the numbers of parameters.\n",
    "- FLAN-T5 small (60M)\n",
    "- FLAN-T5 base (250M)\n",
    "- FLAN-T5 large (780M)\n",
    "- FLAN-T5 XL (3B)\n",
    "- FLAN-T5 XXL (11B)"
   ]
  },
  {
   "cell_type": "code",
   "execution_count": 6,
   "id": "cb31c9b7-d256-4787-b198-6f4e28eb78ad",
   "metadata": {},
   "outputs": [],
   "source": [
    "## GPU 환경 및 번호 설정 \n",
    "device = \"cuda:0\" if torch.cuda.is_available() else \"cpu\""
   ]
  },
  {
   "cell_type": "code",
   "execution_count": 15,
   "id": "dda4b080-05ed-4e54-96a2-578a94807c54",
   "metadata": {},
   "outputs": [],
   "source": [
    "## 모델 및 토크나이저 설정\n",
    "\n",
    "model = AutoModelForSeq2SeqLM.from_pretrained(\"google/flan-t5-large\").to(device)\n",
    "tokenizer = AutoTokenizer.from_pretrained(\"google/flan-t5-large\")"
   ]
  },
  {
   "cell_type": "code",
   "execution_count": 12,
   "id": "f690fb6d-798c-43a2-96e9-0f5992e4637f",
   "metadata": {},
   "outputs": [],
   "source": [
    "def inference(input_text):\n",
    "  input_ids = tokenizer(input_text, return_tensors=\"pt\").input_ids.to(device)\n",
    "  outputs = model.generate(input_ids, max_length=200, num_beams=2,repetition_penalty=2.5,length_penalty=1.0,)\n",
    "  result = tokenizer.decode(outputs[0], skip_special_tokens=True)\n",
    "  print(result)"
   ]
  },
  {
   "cell_type": "code",
   "execution_count": 13,
   "id": "4094aa06-b6a6-4a20-a970-c54e1dc2cc87",
   "metadata": {},
   "outputs": [
    {
     "name": "stdout",
     "output_type": "stream",
     "text": [
      "In a large bowl, combine the pasta, sauce, salt and pepper. Toss to coat. Cover with plastic wrap and refrigerate until ready to use.\n"
     ]
    }
   ],
   "source": [
    "input_text=\"A step by step recipe to make bolognese pasta:\"\n",
    "inference(input_text)"
   ]
  },
  {
   "cell_type": "code",
   "execution_count": 14,
   "id": "f2d9537c-5a7c-42e9-a3dc-eb6cb6a0ce0e",
   "metadata": {},
   "outputs": [
    {
     "data": {
      "text/plain": [
       "('model/flan-t5-large/tokenizer_config.json',\n",
       " 'model/flan-t5-large/special_tokens_map.json',\n",
       " 'model/flan-t5-large/tokenizer.json')"
      ]
     },
     "execution_count": 14,
     "metadata": {},
     "output_type": "execute_result"
    }
   ],
   "source": [
    "## 모델 다운로드 (pytorch bin) \n",
    "\n",
    "path=('model/flan-t5-large')\n",
    "model.save_pretrained(path)\n",
    "tokenizer.save_pretrained(path)"
   ]
  },
  {
   "cell_type": "code",
   "execution_count": 3,
   "id": "5f6c3ff3-0ae0-4fca-bf45-17b047f1d299",
   "metadata": {},
   "outputs": [
    {
     "name": "stdout",
     "output_type": "stream",
     "text": [
      "2.0.1+cu117\n"
     ]
    }
   ],
   "source": [
    "print(torch.__version__)"
   ]
  },
  {
   "cell_type": "code",
   "execution_count": 16,
   "id": "6beda25a-8a72-485e-8320-266e7dba4ad2",
   "metadata": {},
   "outputs": [],
   "source": [
    "### 학습 파라미터만 저장하기 (state_dict)\n",
    "\n",
    "torch.save(model.state_dict(), 'model/flan-t5-large-state-dict')"
   ]
  },
  {
   "cell_type": "code",
   "execution_count": null,
   "id": "000e02cb-d192-47c5-b61e-cc53f72b1a79",
   "metadata": {},
   "outputs": [],
   "source": []
  }
 ],
 "metadata": {
  "kernelspec": {
   "display_name": "Python 3 (ipykernel)",
   "language": "python",
   "name": "python3"
  },
  "language_info": {
   "codemirror_mode": {
    "name": "ipython",
    "version": 3
   },
   "file_extension": ".py",
   "mimetype": "text/x-python",
   "name": "python",
   "nbconvert_exporter": "python",
   "pygments_lexer": "ipython3",
   "version": "3.8.10"
  }
 },
 "nbformat": 4,
 "nbformat_minor": 5
}
