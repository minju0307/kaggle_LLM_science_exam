{
 "cells": [
  {
   "cell_type": "code",
   "execution_count": 2,
   "id": "1236d2b7-24da-433c-8daa-b7b0c31dfefd",
   "metadata": {},
   "outputs": [],
   "source": [
    "from datasets import load_dataset"
   ]
  },
  {
   "cell_type": "code",
   "execution_count": 5,
   "id": "f030d926-5e14-45ac-9f7a-5282fc270be9",
   "metadata": {},
   "outputs": [
    {
     "name": "stdout",
     "output_type": "stream",
     "text": [
      "DatasetDict({\n",
      "    auxiliary_train: Dataset({\n",
      "        features: ['question', 'subject', 'choices', 'answer'],\n",
      "        num_rows: 99842\n",
      "    })\n",
      "    test: Dataset({\n",
      "        features: ['question', 'subject', 'choices', 'answer'],\n",
      "        num_rows: 14042\n",
      "    })\n",
      "    validation: Dataset({\n",
      "        features: ['question', 'subject', 'choices', 'answer'],\n",
      "        num_rows: 1531\n",
      "    })\n",
      "    dev: Dataset({\n",
      "        features: ['question', 'subject', 'choices', 'answer'],\n",
      "        num_rows: 285\n",
      "    })\n",
      "})\n"
     ]
    }
   ],
   "source": [
    "dataset = load_dataset('cais/mmlu', 'all')\n",
    "print(dataset)"
   ]
  },
  {
   "cell_type": "code",
   "execution_count": 67,
   "id": "cf459f4a-f0c0-4296-87a5-3830b1d7f1a5",
   "metadata": {},
   "outputs": [],
   "source": [
    "df = pd.DataFrame(dataset['auxiliary_train'])"
   ]
  },
  {
   "cell_type": "code",
   "execution_count": 68,
   "id": "d383f138-539e-4748-8ec1-d99db45ccf7e",
   "metadata": {},
   "outputs": [
    {
     "data": {
      "text/plain": [
       "0        [Adams only., Brooks only., Case only., Adams ...\n",
       "1        [guilty, because this is a public welfare offe...\n",
       "2        [Yes, because Mann threatened to use deadly fo...\n",
       "3        [must permit Don to answer if he had objected ...\n",
       "4        [partial breach of contract only if Ames had p...\n",
       "                               ...                        \n",
       "99837          [skyscrapers, the stock market, air, water]\n",
       "99838                   [Brewer's yeast, air, sand, sugar]\n",
       "99839    [the praying mantis, the antelope, the butterf...\n",
       "99840    [organisms they hunt, computer, groceries, seven]\n",
       "99841     [a ruler, a compass, a calculator, a protractor]\n",
       "Name: choices, Length: 99842, dtype: object"
      ]
     },
     "execution_count": 68,
     "metadata": {},
     "output_type": "execute_result"
    }
   ],
   "source": [
    "df['choices']"
   ]
  },
  {
   "cell_type": "code",
   "execution_count": 69,
   "id": "438e076e-bf12-49a8-a273-eccd63262f77",
   "metadata": {},
   "outputs": [],
   "source": [
    "train_df = {'question':df['question'].tolist(), 'A':[], 'B':[], 'C':[], 'D':[], 'answer':[label_dict[i] for i in df['answer'].tolist()]}"
   ]
  },
  {
   "cell_type": "code",
   "execution_count": 70,
   "id": "f1870b45-e148-4bbe-834c-61da05baa7e6",
   "metadata": {},
   "outputs": [],
   "source": [
    "for line in df['choices'].tolist():\n",
    "    train_df['A'].append(line[0])\n",
    "    train_df['B'].append(line[1])\n",
    "    train_df['C'].append(line[2])\n",
    "    train_df['D'].append(line[3])"
   ]
  },
  {
   "cell_type": "code",
   "execution_count": 71,
   "id": "fdd1f50a-d111-443b-926a-02cde2775cc3",
   "metadata": {},
   "outputs": [],
   "source": [
    "train_df = pd.DataFrame(train_df)\n",
    "train_df.to_csv('../dataset/MMLU_train_set.csv', index=False) ## 99842개"
   ]
  },
  {
   "cell_type": "code",
   "execution_count": 78,
   "id": "5baff3c7-e91a-4c83-aa02-f3a2ffc56b19",
   "metadata": {},
   "outputs": [
    {
     "data": {
      "text/html": [
       "<div>\n",
       "<style scoped>\n",
       "    .dataframe tbody tr th:only-of-type {\n",
       "        vertical-align: middle;\n",
       "    }\n",
       "\n",
       "    .dataframe tbody tr th {\n",
       "        vertical-align: top;\n",
       "    }\n",
       "\n",
       "    .dataframe thead th {\n",
       "        text-align: right;\n",
       "    }\n",
       "</style>\n",
       "<table border=\"1\" class=\"dataframe\">\n",
       "  <thead>\n",
       "    <tr style=\"text-align: right;\">\n",
       "      <th></th>\n",
       "      <th>question</th>\n",
       "      <th>A</th>\n",
       "      <th>B</th>\n",
       "      <th>C</th>\n",
       "      <th>D</th>\n",
       "      <th>answer</th>\n",
       "    </tr>\n",
       "  </thead>\n",
       "  <tbody>\n",
       "    <tr>\n",
       "      <th>0</th>\n",
       "      <td>Davis decided to kill Adams. He set out for Ad...</td>\n",
       "      <td>Adams only.</td>\n",
       "      <td>Brooks only.</td>\n",
       "      <td>Case only.</td>\n",
       "      <td>Adams and Brooks</td>\n",
       "      <td>B</td>\n",
       "    </tr>\n",
       "    <tr>\n",
       "      <th>1</th>\n",
       "      <td>A state statute requires any person licensed t...</td>\n",
       "      <td>guilty, because this is a public welfare offen...</td>\n",
       "      <td>guilty, because he cannot be excused on the ba...</td>\n",
       "      <td>not guilty, because the statute punishes omiss...</td>\n",
       "      <td>not guilty, because he was not aware of the va...</td>\n",
       "      <td>D</td>\n",
       "    </tr>\n",
       "    <tr>\n",
       "      <th>2</th>\n",
       "      <td>Lender met Borrower on the street, demanded th...</td>\n",
       "      <td>Yes, because Mann threatened to use deadly for...</td>\n",
       "      <td>Yes, unless Mann was related to Borrower.</td>\n",
       "      <td>No, if it was apparent that Lender was about t...</td>\n",
       "      <td>No, because Lender was the original aggressor ...</td>\n",
       "      <td>C</td>\n",
       "    </tr>\n",
       "    <tr>\n",
       "      <th>3</th>\n",
       "      <td>Peter sued Don for breach of contract. The cou...</td>\n",
       "      <td>must permit Don to answer if he had objected t...</td>\n",
       "      <td>may permit Don to answer, whether or not he ha...</td>\n",
       "      <td>may permit Don to answer only if he had object...</td>\n",
       "      <td>cannot permit Don to answer, whether or not he...</td>\n",
       "      <td>B</td>\n",
       "    </tr>\n",
       "    <tr>\n",
       "      <th>4</th>\n",
       "      <td>Ames had painted Bell's house under a contract...</td>\n",
       "      <td>partial breach of contract only if Ames had pr...</td>\n",
       "      <td>partial breach of contract whether or not Ames...</td>\n",
       "      <td>total breach of contract only if Ames had prop...</td>\n",
       "      <td>total breach of contract whether or not Ames h...</td>\n",
       "      <td>C</td>\n",
       "    </tr>\n",
       "    <tr>\n",
       "      <th>5</th>\n",
       "      <td>Ames had painted Bell's house under a contract...</td>\n",
       "      <td>succeed if he can prove that he had painted th...</td>\n",
       "      <td>succeed, because he cashed the check under eco...</td>\n",
       "      <td>not succeed, because he cashed the check witho...</td>\n",
       "      <td>not succeed, because he is entitled to recover...</td>\n",
       "      <td>C</td>\n",
       "    </tr>\n",
       "    <tr>\n",
       "      <th>6</th>\n",
       "      <td>Ames had painted Bell's house under a contract...</td>\n",
       "      <td>succeed, because by cashing the check Ames imp...</td>\n",
       "      <td>succeed, because Ames accepted Bell's offer by...</td>\n",
       "      <td>not succeed, because Bell's letter of June 18 ...</td>\n",
       "      <td>not succeed, because there is no consideration...</td>\n",
       "      <td>A</td>\n",
       "    </tr>\n",
       "    <tr>\n",
       "      <th>7</th>\n",
       "      <td>The State of Aurora requires licenses of perso...</td>\n",
       "      <td>unconstitutional as an undue burden on interst...</td>\n",
       "      <td>unconstitutional as a violation of the privile...</td>\n",
       "      <td>constitutional, because the state does not kno...</td>\n",
       "      <td>constitutional, because barbering is a privile...</td>\n",
       "      <td>A</td>\n",
       "    </tr>\n",
       "    <tr>\n",
       "      <th>8</th>\n",
       "      <td>The State of Aurora requires licenses of perso...</td>\n",
       "      <td>constitutional as an effort to ensure that bar...</td>\n",
       "      <td>constitutional as an exercise of the state pol...</td>\n",
       "      <td>unconstitutional as a bill of attainder.</td>\n",
       "      <td>unconstitutional as a denial of equal protection</td>\n",
       "      <td>D</td>\n",
       "    </tr>\n",
       "    <tr>\n",
       "      <th>9</th>\n",
       "      <td>The State of Aurora requires licenses of perso...</td>\n",
       "      <td>dismissed, because there is no diversity of ci...</td>\n",
       "      <td>dismissed, because of the abstention doctrine.</td>\n",
       "      <td>decided on the merits, because federal jurisdi...</td>\n",
       "      <td>decided on the merits, because a federal quest...</td>\n",
       "      <td>D</td>\n",
       "    </tr>\n",
       "  </tbody>\n",
       "</table>\n",
       "</div>"
      ],
      "text/plain": [
       "                                            question  \\\n",
       "0  Davis decided to kill Adams. He set out for Ad...   \n",
       "1  A state statute requires any person licensed t...   \n",
       "2  Lender met Borrower on the street, demanded th...   \n",
       "3  Peter sued Don for breach of contract. The cou...   \n",
       "4  Ames had painted Bell's house under a contract...   \n",
       "5  Ames had painted Bell's house under a contract...   \n",
       "6  Ames had painted Bell's house under a contract...   \n",
       "7  The State of Aurora requires licenses of perso...   \n",
       "8  The State of Aurora requires licenses of perso...   \n",
       "9  The State of Aurora requires licenses of perso...   \n",
       "\n",
       "                                                   A  \\\n",
       "0                                        Adams only.   \n",
       "1  guilty, because this is a public welfare offen...   \n",
       "2  Yes, because Mann threatened to use deadly for...   \n",
       "3  must permit Don to answer if he had objected t...   \n",
       "4  partial breach of contract only if Ames had pr...   \n",
       "5  succeed if he can prove that he had painted th...   \n",
       "6  succeed, because by cashing the check Ames imp...   \n",
       "7  unconstitutional as an undue burden on interst...   \n",
       "8  constitutional as an effort to ensure that bar...   \n",
       "9  dismissed, because there is no diversity of ci...   \n",
       "\n",
       "                                                   B  \\\n",
       "0                                       Brooks only.   \n",
       "1  guilty, because he cannot be excused on the ba...   \n",
       "2         Yes, unless Mann was related to Borrower.    \n",
       "3  may permit Don to answer, whether or not he ha...   \n",
       "4  partial breach of contract whether or not Ames...   \n",
       "5  succeed, because he cashed the check under eco...   \n",
       "6  succeed, because Ames accepted Bell's offer by...   \n",
       "7  unconstitutional as a violation of the privile...   \n",
       "8  constitutional as an exercise of the state pol...   \n",
       "9    dismissed, because of the abstention doctrine.    \n",
       "\n",
       "                                                   C  \\\n",
       "0                                         Case only.   \n",
       "1  not guilty, because the statute punishes omiss...   \n",
       "2  No, if it was apparent that Lender was about t...   \n",
       "3  may permit Don to answer only if he had object...   \n",
       "4  total breach of contract only if Ames had prop...   \n",
       "5  not succeed, because he cashed the check witho...   \n",
       "6  not succeed, because Bell's letter of June 18 ...   \n",
       "7  constitutional, because the state does not kno...   \n",
       "8           unconstitutional as a bill of attainder.   \n",
       "9  decided on the merits, because federal jurisdi...   \n",
       "\n",
       "                                                   D answer  \n",
       "0                                   Adams and Brooks      B  \n",
       "1  not guilty, because he was not aware of the va...      D  \n",
       "2  No, because Lender was the original aggressor ...      C  \n",
       "3  cannot permit Don to answer, whether or not he...      B  \n",
       "4  total breach of contract whether or not Ames h...      C  \n",
       "5  not succeed, because he is entitled to recover...      C  \n",
       "6  not succeed, because there is no consideration...      A  \n",
       "7  constitutional, because barbering is a privile...      A  \n",
       "8   unconstitutional as a denial of equal protection      D  \n",
       "9  decided on the merits, because a federal quest...      D  "
      ]
     },
     "execution_count": 78,
     "metadata": {},
     "output_type": "execute_result"
    }
   ],
   "source": [
    "train_df.head(10)"
   ]
  },
  {
   "cell_type": "code",
   "execution_count": 43,
   "id": "b7e1b0da-8e65-4390-8989-de50ba4dfd05",
   "metadata": {},
   "outputs": [
    {
     "data": {
      "text/plain": [
       "99842"
      ]
     },
     "execution_count": 43,
     "metadata": {},
     "output_type": "execute_result"
    }
   ],
   "source": [
    "len(train_df)"
   ]
  },
  {
   "cell_type": "code",
   "execution_count": 79,
   "id": "9c877c5d-fb8b-4723-92ac-fbe66cabfbef",
   "metadata": {},
   "outputs": [],
   "source": [
    "train_sampling=train_df.sample(frac=0.2)"
   ]
  },
  {
   "cell_type": "code",
   "execution_count": 85,
   "id": "558a7e26-5e34-4971-a189-337e9c3301c1",
   "metadata": {},
   "outputs": [],
   "source": [
    "train_sampling.to_csv('../dataset/MMLU_sampling_train_set.csv', index=False) ## 19968개"
   ]
  },
  {
   "cell_type": "code",
   "execution_count": 86,
   "id": "afea7d8e-f741-4b26-a57a-20788a661f79",
   "metadata": {},
   "outputs": [
    {
     "data": {
      "text/plain": [
       "19968"
      ]
     },
     "execution_count": 86,
     "metadata": {},
     "output_type": "execute_result"
    }
   ],
   "source": [
    "len(train_sampling)"
   ]
  },
  {
   "cell_type": "code",
   "execution_count": 11,
   "id": "d049d136-cb41-43e4-919f-acfde1f0a99a",
   "metadata": {},
   "outputs": [],
   "source": [
    "## focuus - physics set download \n",
    "\n",
    "label_dict ={0:'A', 1:'B', 2:'C', 3:'D'}\n",
    "first_priority_df = {'question':[], 'A':[], 'B':[], 'C':[], 'D':[], 'answer':[]}\n",
    "first=['astronomy', 'college physics', 'conceptual physics', 'high school physics']\n",
    "\n",
    "for idx, q in enumerate(dataset['test']['question']):\n",
    "    if dataset['test']['subject'][idx] in first:                 \n",
    "        first_priority_df['question'].append(q)\n",
    "        first_priority_df['A'].append(dataset['test']['choices'][idx][0])\n",
    "        first_priority_df['B'].append(dataset['test']['choices'][idx][1])\n",
    "        first_priority_df['C'].append(dataset['test']['choices'][idx][2])\n",
    "        first_priority_df['D'].append(dataset['test']['choices'][idx][3])\n",
    "        first_priority_df['answer'].append(label_dict[dataset['test'][idx]['answer']])"
   ]
  },
  {
   "cell_type": "code",
   "execution_count": 13,
   "id": "813c1631-fbb8-4c3f-9942-74734d5de5bc",
   "metadata": {},
   "outputs": [],
   "source": [
    "import pandas as pd\n",
    "\n",
    "first_priority_df = pd.DataFrame(first_priority_df)\n",
    "first_priority_df.to_csv('../dataset/MMLU_physics_set.csv', index=False) ## 152개"
   ]
  },
  {
   "cell_type": "code",
   "execution_count": 45,
   "id": "fd1bad2a-8d98-471f-a3eb-ffb853a1ecdc",
   "metadata": {},
   "outputs": [],
   "source": [
    "## focuus - science set download \n",
    "\n",
    "label_dict ={0:'A', 1:'B', 2:'C', 3:'D'}\n",
    "second_priority_df = {'question':[], 'A':[], 'B':[], 'C':[], 'D':[], 'answer':[]}\n",
    "second=['anatomy', 'clinical knowledge', 'college biology', 'college chemistry', 'college comp sci', 'collge mathematics', 'college medicine', 'high school biology', 'high school chemistry', 'high school comp sci', 'high school mathematics', 'high school psychology', 'high school statistics', 'machine learning', 'professional medicine', 'professional spychology', 'virology']\n",
    "\n",
    "for idx, q in enumerate(dataset['test']['question']):\n",
    "    if dataset['test']['subject'][idx] in second:                 \n",
    "        second_priority_df['question'].append(q)\n",
    "        second_priority_df['A'].append(dataset['test']['choices'][idx][0])\n",
    "        second_priority_df['B'].append(dataset['test']['choices'][idx][1])\n",
    "        second_priority_df['C'].append(dataset['test']['choices'][idx][2])\n",
    "        second_priority_df['D'].append(dataset['test']['choices'][idx][3])\n",
    "        second_priority_df['answer'].append(label_dict[dataset['test'][idx]['answer']])"
   ]
  },
  {
   "cell_type": "code",
   "execution_count": 46,
   "id": "71dd7cc6-c0e5-49cd-8b60-7dc4c2c0f038",
   "metadata": {},
   "outputs": [],
   "source": [
    "second_priority_df = pd.DataFrame(second_priority_df)\n",
    "second_priority_df.to_csv('../dataset/MMLU_science_set.csv', index=False) ## 301개"
   ]
  },
  {
   "cell_type": "code",
   "execution_count": 54,
   "id": "91f01b32-3749-4591-a957-b4a00801c0a0",
   "metadata": {},
   "outputs": [
    {
     "data": {
      "text/html": [
       "<div>\n",
       "<style scoped>\n",
       "    .dataframe tbody tr th:only-of-type {\n",
       "        vertical-align: middle;\n",
       "    }\n",
       "\n",
       "    .dataframe tbody tr th {\n",
       "        vertical-align: top;\n",
       "    }\n",
       "\n",
       "    .dataframe thead th {\n",
       "        text-align: right;\n",
       "    }\n",
       "</style>\n",
       "<table border=\"1\" class=\"dataframe\">\n",
       "  <thead>\n",
       "    <tr style=\"text-align: right;\">\n",
       "      <th></th>\n",
       "      <th>question</th>\n",
       "      <th>A</th>\n",
       "      <th>B</th>\n",
       "      <th>C</th>\n",
       "      <th>D</th>\n",
       "      <th>answer</th>\n",
       "    </tr>\n",
       "  </thead>\n",
       "  <tbody>\n",
       "    <tr>\n",
       "      <th>0</th>\n",
       "      <td>How many human polyomaviruses are known at pre...</td>\n",
       "      <td>100</td>\n",
       "      <td>1</td>\n",
       "      <td>10</td>\n",
       "      <td>unknown</td>\n",
       "      <td>A</td>\n",
       "    </tr>\n",
       "    <tr>\n",
       "      <th>1</th>\n",
       "      <td>AIDS activism in the U.S. resulted in:</td>\n",
       "      <td>Food and Drug Administration reforms</td>\n",
       "      <td>Easier access to investigational drugs</td>\n",
       "      <td>Changes in the way medicine was practiced in t...</td>\n",
       "      <td>All of the above</td>\n",
       "      <td>D</td>\n",
       "    </tr>\n",
       "    <tr>\n",
       "      <th>2</th>\n",
       "      <td>Globally, the most deaths are caused by:</td>\n",
       "      <td>Respiratory infections</td>\n",
       "      <td>Diarrheal diseases</td>\n",
       "      <td>Malaria</td>\n",
       "      <td>Tuberculosis</td>\n",
       "      <td>B</td>\n",
       "    </tr>\n",
       "    <tr>\n",
       "      <th>3</th>\n",
       "      <td>What happens during the 'incubation period'?</td>\n",
       "      <td>The virus is cleared from the body by the immu...</td>\n",
       "      <td>Virus replication happens at an intracellular ...</td>\n",
       "      <td>This period commonly lasts for a few days</td>\n",
       "      <td>This period commonly lasts for a few hours</td>\n",
       "      <td>B</td>\n",
       "    </tr>\n",
       "    <tr>\n",
       "      <th>4</th>\n",
       "      <td>Newborn infants in countries with limited acce...</td>\n",
       "      <td>Exclusively formula fed for six months</td>\n",
       "      <td>Exclusively breast fed for six months</td>\n",
       "      <td>Should receive both breast milk and other food...</td>\n",
       "      <td>months</td>\n",
       "      <td>B</td>\n",
       "    </tr>\n",
       "    <tr>\n",
       "      <th>5</th>\n",
       "      <td>Achieving effective change in a community is u...</td>\n",
       "      <td>Innovators</td>\n",
       "      <td>Early adapters</td>\n",
       "      <td>Middle adapters</td>\n",
       "      <td>Late adapters</td>\n",
       "      <td>A</td>\n",
       "    </tr>\n",
       "    <tr>\n",
       "      <th>6</th>\n",
       "      <td>“Contingency management” is”:</td>\n",
       "      <td>A strategy of last resort for reducing high-ri...</td>\n",
       "      <td>Paying drug users for negative urine specimens</td>\n",
       "      <td>Paying sex workers to use condoms</td>\n",
       "      <td>Paying drug users to use condoms</td>\n",
       "      <td>B</td>\n",
       "    </tr>\n",
       "    <tr>\n",
       "      <th>7</th>\n",
       "      <td>Typical clinical symptoms following infection ...</td>\n",
       "      <td>Acute pneumonia</td>\n",
       "      <td>Gastroenteritis in children</td>\n",
       "      <td>Hepatitis</td>\n",
       "      <td>rashes</td>\n",
       "      <td>B</td>\n",
       "    </tr>\n",
       "    <tr>\n",
       "      <th>8</th>\n",
       "      <td>Which of the following is the most special cha...</td>\n",
       "      <td>Antibodies</td>\n",
       "      <td>T cells</td>\n",
       "      <td>Memory T cells</td>\n",
       "      <td>Clonal expansion of pre-existing antibodies an...</td>\n",
       "      <td>D</td>\n",
       "    </tr>\n",
       "    <tr>\n",
       "      <th>9</th>\n",
       "      <td>Chemotherapy is now an option for clinical car...</td>\n",
       "      <td>Interferon and ribavirin</td>\n",
       "      <td>Lamivudine and ribavirin</td>\n",
       "      <td>Combinations of adefovir and entecavir and/or ...</td>\n",
       "      <td>Interferons alone</td>\n",
       "      <td>B</td>\n",
       "    </tr>\n",
       "  </tbody>\n",
       "</table>\n",
       "</div>"
      ],
      "text/plain": [
       "                                            question  \\\n",
       "0  How many human polyomaviruses are known at pre...   \n",
       "1             AIDS activism in the U.S. resulted in:   \n",
       "2           Globally, the most deaths are caused by:   \n",
       "3       What happens during the 'incubation period'?   \n",
       "4  Newborn infants in countries with limited acce...   \n",
       "5  Achieving effective change in a community is u...   \n",
       "6                      “Contingency management” is”:   \n",
       "7  Typical clinical symptoms following infection ...   \n",
       "8  Which of the following is the most special cha...   \n",
       "9  Chemotherapy is now an option for clinical car...   \n",
       "\n",
       "                                                   A  \\\n",
       "0                                                100   \n",
       "1               Food and Drug Administration reforms   \n",
       "2                             Respiratory infections   \n",
       "3  The virus is cleared from the body by the immu...   \n",
       "4             Exclusively formula fed for six months   \n",
       "5                                         Innovators   \n",
       "6  A strategy of last resort for reducing high-ri...   \n",
       "7                                    Acute pneumonia   \n",
       "8                                         Antibodies   \n",
       "9                           Interferon and ribavirin   \n",
       "\n",
       "                                                   B  \\\n",
       "0                                                  1   \n",
       "1             Easier access to investigational drugs   \n",
       "2                                 Diarrheal diseases   \n",
       "3  Virus replication happens at an intracellular ...   \n",
       "4              Exclusively breast fed for six months   \n",
       "5                                     Early adapters   \n",
       "6     Paying drug users for negative urine specimens   \n",
       "7                        Gastroenteritis in children   \n",
       "8                                            T cells   \n",
       "9                           Lamivudine and ribavirin   \n",
       "\n",
       "                                                   C  \\\n",
       "0                                                 10   \n",
       "1  Changes in the way medicine was practiced in t...   \n",
       "2                                            Malaria   \n",
       "3          This period commonly lasts for a few days   \n",
       "4  Should receive both breast milk and other food...   \n",
       "5                                    Middle adapters   \n",
       "6                  Paying sex workers to use condoms   \n",
       "7                                          Hepatitis   \n",
       "8                                     Memory T cells   \n",
       "9  Combinations of adefovir and entecavir and/or ...   \n",
       "\n",
       "                                                   D answer  \n",
       "0                                            unknown      A  \n",
       "1                                   All of the above      D  \n",
       "2                                       Tuberculosis      B  \n",
       "3         This period commonly lasts for a few hours      B  \n",
       "4                                             months      B  \n",
       "5                                      Late adapters      A  \n",
       "6                   Paying drug users to use condoms      B  \n",
       "7                                             rashes      B  \n",
       "8  Clonal expansion of pre-existing antibodies an...      D  \n",
       "9                                  Interferons alone      B  "
      ]
     },
     "execution_count": 54,
     "metadata": {},
     "output_type": "execute_result"
    }
   ],
   "source": [
    "second_priority_df.head(10)"
   ]
  },
  {
   "cell_type": "code",
   "execution_count": 60,
   "id": "91534609-fb2e-428a-a78b-dffbdaa00f19",
   "metadata": {},
   "outputs": [],
   "source": [
    "## focuus - dev set download (48개 밖에 안 되어서 안 씀)\n",
    "\n",
    "label_dict ={0:'A', 1:'B', 2:'C', 3:'D'}\n",
    "dev_df = {'question':[], 'A':[], 'B':[], 'C':[], 'D':[], 'answer':[]}\n",
    "\n",
    "for idx, q in enumerate(dataset['validation']['question']):\n",
    "    if dataset['validation']['subject'][idx] in first or dataset['validation']['subject'][idx] in second:                 \n",
    "        dev_df['question'].append(q)\n",
    "        dev_df['A'].append(dataset['validation']['choices'][idx][0])\n",
    "        dev_df['B'].append(dataset['validation']['choices'][idx][1])\n",
    "        dev_df['C'].append(dataset['validation']['choices'][idx][2])\n",
    "        dev_df['D'].append(dataset['validation']['choices'][idx][3])\n",
    "        dev_df['answer'].append(label_dict[dataset['validation'][idx]['answer']])"
   ]
  },
  {
   "cell_type": "code",
   "execution_count": 73,
   "id": "4e53b979-f64a-4a27-a7e1-2901b8f2dacc",
   "metadata": {},
   "outputs": [],
   "source": [
    "df = pd.DataFrame(dataset['dev'])"
   ]
  },
  {
   "cell_type": "code",
   "execution_count": 75,
   "id": "27eda1fa-2565-46bc-9703-98f4dd6e8b2d",
   "metadata": {},
   "outputs": [],
   "source": [
    "dev_df = {'question':df['question'].tolist(), 'A':[], 'B':[], 'C':[], 'D':[], 'answer':[label_dict[i] for i in df['answer'].tolist()]}"
   ]
  },
  {
   "cell_type": "code",
   "execution_count": 76,
   "id": "7bd5fcf7-24ad-488a-bf76-a0ac4328281b",
   "metadata": {},
   "outputs": [],
   "source": [
    "for line in df['choices'].tolist():\n",
    "    dev_df['A'].append(line[0])\n",
    "    dev_df['B'].append(line[1])\n",
    "    dev_df['C'].append(line[2])\n",
    "    dev_df['D'].append(line[3])"
   ]
  },
  {
   "cell_type": "code",
   "execution_count": 77,
   "id": "edca315a-5c56-401b-9575-00901983e81e",
   "metadata": {},
   "outputs": [],
   "source": [
    "dev_df = pd.DataFrame(dev_df)\n",
    "dev_df.to_csv('../dataset/MMLU_dev_set.csv', index=False) ## 286개"
   ]
  },
  {
   "cell_type": "code",
   "execution_count": null,
   "id": "ee849acc-e331-4c55-b043-b937f9b055f6",
   "metadata": {},
   "outputs": [],
   "source": []
  }
 ],
 "metadata": {
  "kernelspec": {
   "display_name": "Python 3 (ipykernel)",
   "language": "python",
   "name": "python3"
  },
  "language_info": {
   "codemirror_mode": {
    "name": "ipython",
    "version": 3
   },
   "file_extension": ".py",
   "mimetype": "text/x-python",
   "name": "python",
   "nbconvert_exporter": "python",
   "pygments_lexer": "ipython3",
   "version": "3.8.10"
  }
 },
 "nbformat": 4,
 "nbformat_minor": 5
}
